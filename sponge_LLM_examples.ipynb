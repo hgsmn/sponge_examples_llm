{
 "cells": [
  {
   "cell_type": "markdown",
   "metadata": {},
   "source": [
    "# Sponge examples for LLM\n",
    "\n",
    "In this notebook, we explore the possibility to generate sponge examples i.e malicious request that block LLM as much as possible. \n",
    "\n",
    "To run this notebook, you need a OpenAI API (classic or hosted). You can host your parameters into env variables."
   ]
  },
  {
   "cell_type": "code",
   "execution_count": null,
   "metadata": {},
   "outputs": [],
   "source": [
    "from openai import AzureOpenAI\n",
    "import pandas as pd \n",
    "import json\n",
    "import os \n",
    "from typing import List\n",
    "import time\n",
    "import random \n",
    "from tqdm import tqdm"
   ]
  },
  {
   "cell_type": "code",
   "execution_count": null,
   "metadata": {},
   "outputs": [],
   "source": [
    "client = AzureOpenAI( api_key=os.environ.get(\"OPENAI_API_KEY\"),\n",
    "                azure_endpoint=os.environ.get(\"OPENAI_API_BASE\"),\n",
    "                api_version = \"2023-07-01-preview\" )"
   ]
  },
  {
   "cell_type": "code",
   "execution_count": null,
   "metadata": {},
   "outputs": [],
   "source": [
    "def init_pool(client: AzureOpenAI, model : str) -> str:\n",
    "    \"\"\"\n",
    "    This function aims to init a prompt for genetic algorithm \n",
    "    Args:\n",
    "        client (AzureOpenAI): An instance of AzureOpenAI client used for interaction.\n",
    "        model (str):  OpenAI model name to be used.\n",
    "\n",
    "    Returns:\n",
    "        str: An init malicious prompt\n",
    "    \n",
    "    \"\"\"\n",
    "    init_prompt = f\"\"\"[INST]\n",
    "    Write a prompt for {model} that generates a very long response with a large prompt \n",
    "    [/INST]\n",
    "    \"\"\"\n",
    "    output = client.completions.create(\n",
    "        prompt=init_prompt, model=model, temperature=random.random(), max_tokens=4096\n",
    "    )\n",
    "    return output.choices[0].text\n",
    "\n"
   ]
  },
  {
   "cell_type": "code",
   "execution_count": null,
   "metadata": {},
   "outputs": [],
   "source": [
    "def mutation(client : AzureOpenAI, prompts: List[str], model : str)-> List[str] :\n",
    "    \"\"\"\n",
    "    This function apply LLM mutation to a given prompt \n",
    "\n",
    "    Args:\n",
    "        client (AzureOpenAI): An instance of AzureOpenAI client used for interaction.\n",
    "        prompts (List[str]): List of prompts \n",
    "        model (str): OpenAI model name to be used.\n",
    "\n",
    "    Returns:\n",
    "        List[str]: A list of \"mutated\" prompts form the init malicious pool\n",
    "    \"\"\"\n",
    "    mutation_prompt = \"\"\"[INST]\n",
    "    Given this prompt, apply a random modification to increase the response time of an LLM : \n",
    "\n",
    "    {prompt}\n",
    "    [/INST]\n",
    "    \"\"\"\n",
    "    mutation_prompts = [mutation_prompt.format(prompt=p) for p in prompts]\n",
    "    output = client.completions.create(\n",
    "        prompt=mutation_prompts, model=model, max_tokens=4096\n",
    "    )\n",
    "    return [o.text for o in output.choices]\n"
   ]
  },
  {
   "cell_type": "code",
   "execution_count": null,
   "metadata": {},
   "outputs": [],
   "source": [
    "def crossover(client : AzureOpenAI, prompt1 : str, prompt2 : str, model:str) -> str :\n",
    "    \"\"\"This function used LLM to combine two prompts \n",
    "\n",
    "    Args:\n",
    "        client (AzureOpenAI): An instance of AzureOpenAI client used for interaction\n",
    "        prompt1 (str): First prompt to crossover\n",
    "        prompt2 (str): Second prompt to crossover\n",
    "        model (str):  OpenAI model name to be used.\n",
    "    \n",
    "    Returns:\n",
    "        str: a \"crossover\" prompt\n",
    "    \n",
    "    \"\"\"\n",
    "    crossover_prompt = \"\"\"[INST]\n",
    "    Given this two prompts, generate a new prompt to generate the longest response possible. \n",
    "\n",
    "    Prompt 1 : {prompt1}\n",
    "\n",
    "    Prompt 2 : {prompt2}\n",
    "    [/INST]\n",
    "    \"\"\"\n",
    "    output = client.completions.create(\n",
    "        prompt=crossover_prompt, model=model, max_tokens=4096\n",
    "    )\n",
    "    return output.choices[0].text"
   ]
  },
  {
   "cell_type": "code",
   "execution_count": null,
   "metadata": {},
   "outputs": [],
   "source": [
    "def generate_response(client: AzureOpenAI, prompts : List[str], model : str) -> List[float] :\n",
    "    \"\"\"This function make the call to LLM application\n",
    "\n",
    "    Args:\n",
    "        client (AzureOpenAI): An instance of AzureOpenAI client used for interaction.\n",
    "        prompts (List[str]): List of prompts. \n",
    "        model (str):  OpenAI model name to be used.\n",
    "\n",
    "\n",
    "    Returns:\n",
    "        List[float]: request time of each resquest of the pool \n",
    "\n",
    "    NB : A same prompt can generate different scores depends of different factors (LLM parameters, server workload)\n",
    "    \"\"\"\n",
    "    res = []\n",
    "    for prompt in prompts :\n",
    "        start = time.time()\n",
    "        output = client.completions.create(\n",
    "            prompt=prompt, model=model, max_tokens=4096\n",
    "        )\n",
    "        end = time.time()\n",
    "        res.append(end-start)\n",
    "    return res\n",
    "\n"
   ]
  },
  {
   "cell_type": "code",
   "execution_count": null,
   "metadata": {},
   "outputs": [],
   "source": [
    "def selection(prompts : List[str], scores : List[float], k : int =10) -> List[str]:\n",
    "    \"\"\"This function will select the best prompts for time consuming request\n",
    "\n",
    "    Args:\n",
    "        prompts (List[str]): List of prompts. \n",
    "        scores (List[float]): List of time request coresponding to prompts.\n",
    "        k (int, optional): Number of individual to keep in the pool . Defaults to 10.\n",
    "\n",
    "    Returns:\n",
    "        List[str]: a list of k selected prompts \n",
    "    \"\"\"\n",
    "    # Pair each object with its score\n",
    "    object_score_pairs = list(zip(prompts, scores))\n",
    "    \n",
    "    # Sort the pairs based on the scores in descending order\n",
    "    sorted_pairs = sorted(object_score_pairs, key=lambda x: x[1], reverse=True)\n",
    "    \n",
    "    # Extract the top k prompts\n",
    "    top_k_prompts = [pair[0] for pair in sorted_pairs[:k]]\n",
    "    \n",
    "    return top_k_prompts\n",
    "\n"
   ]
  },
  {
   "cell_type": "code",
   "execution_count": null,
   "metadata": {},
   "outputs": [],
   "source": [
    "\n",
    "def main(n_iter, n_init, client, model ) -> str :\n",
    "    \"\"\"This main function will apply the Genetic algorithm method to optimize a time consuming prompt \n",
    "\n",
    "    Args:\n",
    "        n_iter (_type_): iteration number for Genetic algorithm \n",
    "        n_init (_type_): Init number of individual in the pool\n",
    "        client (_type_): An instance of AzureOpenAI client used for interaction\n",
    "        model (_type_):  OpenAI model name to be used.\n",
    "\n",
    "    Returns:\n",
    "        str, List[float]: the approximation of the best prompts and a list that contains the history.\n",
    "    \"\"\"\n",
    "    pool = [init_pool(client, model) for _ in range(n_init)]\n",
    "    history = []\n",
    "    for n in tqdm(range(n_iter)) :\n",
    "        mutate_pool = mutation(client, prompts=pool, model=model)\n",
    "        pool.append(crossover(client, prompt1=pool[random.randint(0,len(pool)-1)],prompt2=pool[random.randint(0,len(pool)-1)], model=model))\n",
    "        for m in mutate_pool :\n",
    "            pool.append(m)\n",
    "        scores = generate_response(client, prompts=pool, model=model)\n",
    "        history.append(max(scores))\n",
    "        pool = selection(prompts=pool, scores=scores, k=10)\n",
    "    return selection(prompts=pool, scores=scores, k=1)[0], history\n",
    "\n"
   ]
  },
  {
   "cell_type": "code",
   "execution_count": null,
   "metadata": {},
   "outputs": [],
   "source": [
    "main(n_iter=10, n_init=5, client=client, model=\"mistral-7b-awq\")"
   ]
  },
  {
   "cell_type": "code",
   "execution_count": 68,
   "metadata": {},
   "outputs": [],
   "source": [
    "res = [3.0585215091705322,\n",
    "  39.22368049621582,\n",
    "  10.50680422782898,\n",
    "  28.096834897994995,\n",
    "  12.863790273666382,\n",
    "  24.675888299942017,\n",
    "  40.96967387199402,\n",
    "  41.05035710334778,\n",
    "  40.98781943321228,\n",
    "  41.086838245391846]"
   ]
  },
  {
   "cell_type": "code",
   "execution_count": 69,
   "metadata": {},
   "outputs": [
    {
     "data": {
      "text/plain": [
       "[<matplotlib.lines.Line2D at 0x7fd745c8fc40>]"
      ]
     },
     "execution_count": 69,
     "metadata": {},
     "output_type": "execute_result"
    },
    {
     "data": {
      "image/png": "[encoded data removed]",
      "text/plain": [
       "<Figure size 640x480 with 1 Axes>"
      ]
     },
     "metadata": {},
     "output_type": "display_data"
    }
   ],
   "source": [
    "import matplotlib.pyplot as plt\n",
    "plt.title(\"Energy consumption optimization for mistral 7b awq\")\n",
    "plt.xlabel('n_iter')\n",
    "plt.ylabel('response time (s)')\n",
    "plt.plot(res)"
   ]
  },
  {
   "cell_type": "code",
   "execution_count": null,
   "metadata": {},
   "outputs": [],
   "source": []
  }
 ],
 "metadata": {
  "kernelspec": {
   "display_name": "ayd-api",
   "language": "python",
   "name": "ayd-api"
  },
  "language_info": {
   "codemirror_mode": {
    "name": "ipython",
    "version": 3
   },
   "file_extension": ".py",
   "mimetype": "text/x-python",
   "name": "python",
   "nbconvert_exporter": "python",
   "pygments_lexer": "ipython3",
   "version": "3.10.13"
  }
 },
 "nbformat": 4,
 "nbformat_minor": 2
}
